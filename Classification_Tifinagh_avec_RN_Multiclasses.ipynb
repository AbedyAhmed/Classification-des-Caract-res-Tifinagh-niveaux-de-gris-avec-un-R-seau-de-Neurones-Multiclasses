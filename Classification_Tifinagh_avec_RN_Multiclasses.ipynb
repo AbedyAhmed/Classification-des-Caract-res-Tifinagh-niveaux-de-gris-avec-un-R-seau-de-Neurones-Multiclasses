{
 "cells": [
  {
   "cell_type": "code",
   "execution_count": 1,
   "id": "aa3a6323",
   "metadata": {},
   "outputs": [],
   "source": [
    "import os\n",
    "import pandas as pd\n",
    "import numpy as np\n",
    "import cv2\n",
    "from sklearn.model_selection import train_test_split, KFold\n",
    "from sklearn.preprocessing import LabelEncoder, OneHotEncoder\n",
    "from sklearn.metrics import confusion_matrix, classification_report\n",
    "import matplotlib.pyplot as plt\n",
    "import seaborn as sns"
   ]
  },
  {
   "cell_type": "markdown",
   "id": "04d3f9af",
   "metadata": {},
   "source": [
    "1- Fonctions d'activation et utilitaires"
   ]
  },
  {
   "cell_type": "code",
   "execution_count": null,
   "id": "4efc3548",
   "metadata": {},
   "outputs": [],
   "source": [
    "def relu(x):\n",
    "    \"\"\"ReLU activation: max(0, x)\"\"\"\n",
    "    assert isinstance(x, np.ndarray), \"Input to ReLU must be a numpy array\"\n",
    "    result = np.maximum(0, x)\n",
    "    assert np.all(result >= 0), \"ReLU output must be non-negative\"\n",
    "    return result\n",
    "\n",
    "def relu_derivative(x):\n",
    "    \"\"\" Derivative of ReLU: 1 if x > 0, else 0 \"\"\"\n",
    "    assert isinstance(x, np.ndarray), \"Input to ReLU derivative must be a numpy array\"\n",
    "    result = (x > 0).astype(float)\n",
    "    assert np.all((result == 0) | (result == 1)), \"ReLU derivative must be 0 or 1\"\n",
    "    return result\n",
    "\n",
    "def softmax(x):\n",
    "    \"\"\"Softmax activation: exp(x) / sum(exp(x))\"\"\"\n",
    "    assert isinstance(x, np.ndarray), \"Input to softmax must be a numpy array\"\n",
    "    # Stabilité numérique\n",
    "    exp_x = np.exp(x - np.max(x, axis=1, keepdims=True))\n",
    "    result = exp_x / np.sum(exp_x, axis=1, keepdims=True)\n",
    "    assert np.all((result >= 0) & (result <= 1)), \"Softmax output must be in [0, 1]\"\n",
    "    assert np.allclose(np.sum(result, axis=1), 1, atol=1e-6), \"Softmax output must sum to 1 per sample\"\n",
    "    return result"
   ]
  },
  {
   "cell_type": "markdown",
   "id": "a68002d6",
   "metadata": {},
   "source": [
    "2- Classe du réseau de neurones multicouches"
   ]
  },
  {
   "cell_type": "code",
   "execution_count": null,
   "id": "b59de36c",
   "metadata": {},
   "outputs": [],
   "source": [
    "class MultiClassNeuralNetwork:\n",
    "    def __init__(self, layer_sizes, learning_rate=0.01, lambda_reg=0.001, use_adam=False):\n",
    "        \"\"\"\n",
    "        Initialise le réseau neuronal avec les paramètres donnés\n",
    "        layer_sizes: Liste des tailles de couches [input, hidden1, ..., output]\n",
    "        learning_rate: Taux d'apprentissage\n",
    "        lambda_reg: Coefficient de régularisation L2\n",
    "        use_adam: Utiliser l'optimiseur Adam\n",
    "        \"\"\"\n",
    "        assert isinstance(layer_sizes, list) and len(layer_sizes) >= 2, \"layer_sizes doit être une liste d'au moins 2 éléments\"\n",
    "        assert all(isinstance(size, int) and size > 0 for size in layer_sizes), \"Toutes les tailles de couches doivent être des entiers positifs\"\n",
    "        \n",
    "        self.layer_sizes = layer_sizes\n",
    "        self.learning_rate = learning_rate\n",
    "        self.lambda_reg = lambda_reg\n",
    "        self.use_adam = use_adam\n",
    "        self.weights = []\n",
    "        self.biases = []\n",
    "        \n",
    "        # Initialisation Adam\n",
    "        if self.use_adam:\n",
    "            self.m_w = []\n",
    "            self.v_w = []\n",
    "            self.m_b = []\n",
    "            self.v_b = []\n",
    "            self.beta1 = 0.9\n",
    "            self.beta2 = 0.999\n",
    "            self.epsilon = 1e-8\n",
    "            self.t = 0  # Compteur d'itérations\n",
    "\n",
    "        # Initialisation des poids et biais\n",
    "        np.random.seed(42)\n",
    "        for i in range(len(layer_sizes) - 1):\n",
    "            # He initialization pour ReLU\n",
    "            std_dev = np.sqrt(2. / layer_sizes[i])\n",
    "            w = np.random.randn(layer_sizes[i], layer_sizes[i+1]) * std_dev\n",
    "            b = np.zeros((1, layer_sizes[i+1]))\n",
    "            \n",
    "            self.weights.append(w)\n",
    "            self.biases.append(b)\n",
    "            \n",
    "            if self.use_adam:\n",
    "                self.m_w.append(np.zeros_like(w))\n",
    "                self.v_w.append(np.zeros_like(w))\n",
    "                self.m_b.append(np.zeros_like(b))\n",
    "                self.v_b.append(np.zeros_like(b))\n",
    "\n",
    "    def forward(self, X):\n",
    "        \"\"\"Propagation avant à travers le réseau\"\"\"\n",
    "        assert isinstance(X, np.ndarray), \"L'entrée X doit être un tableau numpy\"\n",
    "        assert X.shape[1] == self.layer_sizes[0], f\"Dimension d'entrée ({X.shape[1]}) doit correspondre à la couche d'entrée ({self.layer_sizes[0]})\"\n",
    "        \n",
    "        self.activations = [X]\n",
    "        self.z_values = []\n",
    "        \n",
    "        # Propagation à travers les couches cachées (ReLU)\n",
    "        for i in range(len(self.weights) - 1):\n",
    "            z = self.activations[-1] @ self.weights[i] + self.biases[i]\n",
    "            a = relu(z)\n",
    "            self.z_values.append(z)\n",
    "            self.activations.append(a)\n",
    "        \n",
    "        # Couche de sortie (Softmax)\n",
    "        z_output = self.activations[-1] @ self.weights[-1] + self.biases[-1]\n",
    "        output = softmax(z_output)\n",
    "        self.z_values.append(z_output)\n",
    "        self.activations.append(output)\n",
    "        \n",
    "        return output\n",
    "\n",
    "    def compute_loss(self, y_true, y_pred):\n",
    "        \"\"\"Calcule la perte d'entropie croisée avec régularisation L2\"\"\"\n",
    "        assert isinstance(y_true, np.ndarray) and isinstance(y_pred, np.ndarray), \"Les entrées doivent être des tableaux numpy\"\n",
    "        assert y_true.shape == y_pred.shape, \"y_true et y_pred doivent avoir la même forme\"\n",
    "        \n",
    "        # Éviter log(0)\n",
    "        y_pred = np.clip(y_pred, 1e-15, 1 - 1e-15)\n",
    "        \n",
    "        # Perte d'entropie croisée\n",
    "        cross_entropy = -np.sum(y_true * np.log(y_pred)) / y_true.shape[0]\n",
    "        \n",
    "        # Régularisation L2\n",
    "        l2_reg = 0\n",
    "        for w in self.weights:\n",
    "            l2_reg += np.sum(np.square(w))\n",
    "        l2_reg = (self.lambda_reg / (2 * y_true.shape[0])) * l2_reg\n",
    "        \n",
    "        total_loss = cross_entropy + l2_reg\n",
    "        assert not np.isnan(total_loss), \"Le calcul de la perte a produit NaN\"\n",
    "        return total_loss\n",
    "\n",
    "    def compute_accuracy(self, y_true, y_pred):\n",
    "        \"\"\"Calcule la précision de classification\"\"\"\n",
    "        assert isinstance(y_true, np.ndarray) and isinstance(y_pred, np.ndarray), \"Les entrées doivent être des tableaux numpy\"\n",
    "        assert y_true.shape == y_pred.shape, \"y_true et y_pred doivent avoir la même forme\"\n",
    "        \n",
    "        predictions = np.argmax(y_pred, axis=1)\n",
    "        if y_true.ndim > 1:  # Si one-hot encoded\n",
    "            true_labels = np.argmax(y_true, axis=1)\n",
    "        else:\n",
    "            true_labels = y_true\n",
    "            \n",
    "        accuracy = np.mean(predictions == true_labels)\n",
    "        assert 0 <= accuracy <= 1, \"La précision doit être entre 0 et 1\"\n",
    "        return accuracy\n",
    "\n",
    "    def backward(self, X, y, outputs):\n",
    "        \"\"\"Rétropropagation avec régularisation L2\"\"\"\n",
    "        assert isinstance(X, np.ndarray) and isinstance(y, np.ndarray) and isinstance(outputs, np.ndarray), \"Les entrées doivent être des tableaux numpy\"\n",
    "        m = X.shape[0]\n",
    "        \n",
    "        # Initialisation des gradients\n",
    "        d_weights = [np.zeros_like(w) for w in self.weights]\n",
    "        d_biases = [np.zeros_like(b) for b in self.biases]\n",
    "        \n",
    "        # Gradient pour la couche de sortie (softmax + entropie croisée)\n",
    "        dZ = (outputs - y) / m\n",
    "        \n",
    "        # Calcul des gradients pour la dernière couche\n",
    "        d_weights[-1] = self.activations[-2].T @ dZ\n",
    "        d_biases[-1] = np.sum(dZ, axis=0, keepdims=True)\n",
    "        \n",
    "        # Ajout de la régularisation L2\n",
    "        d_weights[-1] += (self.lambda_reg / m) * self.weights[-1]\n",
    "        \n",
    "        # Rétropropagation à travers les couches cachées\n",
    "        for l in range(len(self.weights)-2, -1, -1):\n",
    "            dA = dZ @ self.weights[l+1].T\n",
    "            dZ = dA * relu_derivative(self.z_values[l])\n",
    "            \n",
    "            d_weights[l] = self.activations[l].T @ dZ\n",
    "            d_biases[l] = np.sum(dZ, axis=0, keepdims=True)\n",
    "            \n",
    "            # Ajout de la régularisation L2\n",
    "            d_weights[l] += (self.lambda_reg / m) * self.weights[l]\n",
    "        \n",
    "        # Mise à jour des paramètres\n",
    "        self.t += 1\n",
    "        for i in range(len(self.weights)):\n",
    "            if self.use_adam:\n",
    "                # Mise à jour des moments pour Adam\n",
    "                self.m_w[i] = self.beta1 * self.m_w[i] + (1 - self.beta1) * d_weights[i]\n",
    "                self.v_w[i] = self.beta2 * self.v_w[i] + (1 - self.beta2) * (d_weights[i] ** 2)\n",
    "                \n",
    "                # Correction de biais\n",
    "                m_w_hat = self.m_w[i] / (1 - self.beta1 ** self.t)\n",
    "                v_w_hat = self.v_w[i] / (1 - self.beta2 ** self.t)\n",
    "                \n",
    "                # Mise à jour des poids\n",
    "                self.weights[i] -= self.learning_rate * m_w_hat / (np.sqrt(v_w_hat) + self.epsilon)\n",
    "                \n",
    "                # Même processus pour les biais\n",
    "                self.m_b[i] = self.beta1 * self.m_b[i] + (1 - self.beta1) * d_biases[i]\n",
    "                self.v_b[i] = self.beta2 * self.v_b[i] + (1 - self.beta2) * (d_biases[i] ** 2)\n",
    "                \n",
    "                m_b_hat = self.m_b[i] / (1 - self.beta1 ** self.t)\n",
    "                v_b_hat = self.v_b[i] / (1 - self.beta2 ** self.t)\n",
    "                \n",
    "                self.biases[i] -= self.learning_rate * m_b_hat / (np.sqrt(v_b_hat) + self.epsilon)\n",
    "            else:\n",
    "                # Mise à jour SGD standard\n",
    "                self.weights[i] -= self.learning_rate * d_weights[i]\n",
    "                self.biases[i] -= self.learning_rate * d_biases[i]\n",
    "\n",
    "    def train(self, X, y, X_val, y_val, epochs, batch_size, use_augmentation=False):\n",
    "        \"\"\"Entraîne le réseau avec mini-batch SGD et validation\"\"\"\n",
    "        assert isinstance(X, np.ndarray) and isinstance(y, np.ndarray), \"X et y doivent être des tableaux numpy\"\n",
    "        train_losses, val_losses = [], []\n",
    "        train_accuracies, val_accuracies = [], []\n",
    "        \n",
    "        for epoch in range(epochs):\n",
    "            # Mélange des données\n",
    "            indices = np.random.permutation(X.shape[0])\n",
    "            X_shuffled = X[indices]\n",
    "            y_shuffled = y[indices]\n",
    "            \n",
    "            epoch_loss = 0\n",
    "            for i in range(0, X.shape[0], batch_size):\n",
    "                # Création du batch\n",
    "                X_batch = X_shuffled[i:i+batch_size]\n",
    "                y_batch = y_shuffled[i:i+batch_size]\n",
    "                \n",
    "                # Augmentation de données\n",
    "                if use_augmentation:\n",
    "                    X_batch = self.augment_batch(X_batch)\n",
    "                \n",
    "                # Propagation avant\n",
    "                outputs = self.forward(X_batch)\n",
    "                batch_loss = self.compute_loss(y_batch, outputs)\n",
    "                epoch_loss += batch_loss\n",
    "                \n",
    "                # Rétropropagation\n",
    "                self.backward(X_batch, y_batch, outputs)\n",
    "            \n",
    "            # Calcul des métriques après chaque epoch\n",
    "            train_outputs = self.forward(X)\n",
    "            train_loss = self.compute_loss(y, train_outputs)\n",
    "            train_acc = self.compute_accuracy(y, train_outputs)\n",
    "            \n",
    "            val_outputs = self.forward(X_val)\n",
    "            val_loss = self.compute_loss(y_val, val_outputs)\n",
    "            val_acc = self.compute_accuracy(y_val, val_outputs)\n",
    "            \n",
    "            # Enregistrement des résultats\n",
    "            train_losses.append(train_loss)\n",
    "            val_losses.append(val_loss)\n",
    "            train_accuracies.append(train_acc)\n",
    "            val_accuracies.append(val_acc)\n",
    "            \n",
    "            # Affichage des progrès\n",
    "            if epoch % 10 == 0:\n",
    "                print(f\"Epoch {epoch}/{epochs} - Train Loss: {train_loss:.4f}, Val Loss: {val_loss:.4f}, \"\n",
    "                      f\"Train Acc: {train_acc:.4f}, Val Acc: {val_acc:.4f}\")\n",
    "        \n",
    "        return train_losses, val_losses, train_accuracies, val_accuracies\n",
    "\n",
    "    def augment_batch(self, X_batch):\n",
    "        \"\"\"Applique une augmentation de données à un batch d'images\"\"\"\n",
    "        augmented = []\n",
    "        for img_flat in X_batch:\n",
    "            # Reconstruction de l'image 32x32\n",
    "            img = img_flat.reshape(32, 32)\n",
    "            \n",
    "            # Rotation aléatoire (±15°)\n",
    "            angle = np.random.uniform(-15, 15)\n",
    "            M_rot = cv2.getRotationMatrix2D((16, 16), angle, 1.0)\n",
    "            img = cv2.warpAffine(img, M_rot, (32, 32))\n",
    "            \n",
    "            # Translation aléatoire (±2 pixels)\n",
    "            tx, ty = np.random.randint(-2, 3, size=2)\n",
    "            M_trans = np.float32([[1, 0, tx], [0, 1, ty]])\n",
    "            img = cv2.warpAffine(img, M_trans, (32, 32))\n",
    "            \n",
    "            # Remise à plat\n",
    "            augmented.append(img.flatten())\n",
    "        \n",
    "        return np.array(augmented)\n",
    "\n",
    "    def predict(self, X):\n",
    "        \"\"\"Prédit les classes pour les données d'entrée\"\"\"\n",
    "        outputs = self.forward(X)\n",
    "        predictions = np.argmax(outputs, axis=1)\n",
    "        return predictions\n",
    "\n",
    "    def cross_validate(self, X, y, k=5, epochs=50, batch_size=32):\n",
    "        \"\"\"Validation croisée k-fold\"\"\"\n",
    "        kf = KFold(n_splits=k, shuffle=True, random_state=42)\n",
    "        fold_accuracies = []\n",
    "        \n",
    "        for fold, (train_idx, val_idx) in enumerate(kf.split(X)):\n",
    "            print(f\"\\n=== Fold {fold+1}/{k} ===\")\n",
    "            \n",
    "            # Division des données\n",
    "            X_train, X_val = X[train_idx], X[val_idx]\n",
    "            y_train, y_val = y[train_idx], y[val_idx]\n",
    "            \n",
    "            # Réinitialisation des poids\n",
    "            self.__init__(self.layer_sizes, self.learning_rate, self.lambda_reg, self.use_adam)\n",
    "            \n",
    "            # Entraînement\n",
    "            self.train(X_train, y_train, X_val, y_val, epochs, batch_size)\n",
    "            \n",
    "            # Évaluation\n",
    "            y_pred = self.predict(X_val)\n",
    "            accuracy = np.mean(y_pred == np.argmax(y_val, axis=1))\n",
    "            fold_accuracies.append(accuracy)\n",
    "            print(f\"Fold {fold+1} Accuracy: {accuracy:.4f}\")\n",
    "        \n",
    "        print(f\"\\n=== {k}-Fold CV Results ===\")\n",
    "        print(f\"Mean Accuracy: {np.mean(fold_accuracies):.4f} ± {np.std(fold_accuracies):.4f}\")\n",
    "        return fold_accuracies"
   ]
  },
  {
   "cell_type": "markdown",
   "id": "7b208d8f",
   "metadata": {},
   "source": [
    "3- Chargement et prétraitement des données"
   ]
  },
  {
   "cell_type": "code",
   "execution_count": 4,
   "id": "2ecd426c",
   "metadata": {},
   "outputs": [],
   "source": [
    "def load_and_preprocess_image(image_path, target_size=(32, 32)):\n",
    "    \"\"\"Charge et prétraite une image\"\"\"\n",
    "    assert os.path.exists(image_path), f\"Image non trouvée: {image_path}\"\n",
    "    img = cv2.imread(image_path, cv2.IMREAD_GRAYSCALE)\n",
    "    assert img is not None, f\"Échec du chargement: {image_path}\"\n",
    "    img = cv2.resize(img, target_size)\n",
    "    img = img.astype(np.float32) / 255.0  # Normalisation\n",
    "    return img.flatten()  # Aplatir pour le réseau\n"
   ]
  },
  {
   "cell_type": "markdown",
   "id": "914b061a",
   "metadata": {},
   "source": [
    "- Chemin vers les données (à adapter selon votre configuration)"
   ]
  },
  {
   "cell_type": "code",
   "execution_count": 5,
   "id": "a87f6cdb",
   "metadata": {},
   "outputs": [],
   "source": [
    "data_dir = os.path.join(os.getcwd(), 'amhcd-data-64/tifinagh-images/')"
   ]
  },
  {
   "cell_type": "markdown",
   "id": "ca710418",
   "metadata": {},
   "source": [
    "- Chargement des étiquettes"
   ]
  },
  {
   "cell_type": "code",
   "execution_count": 6,
   "id": "c385314f",
   "metadata": {},
   "outputs": [
    {
     "name": "stdout",
     "output_type": "stream",
     "text": [
      "labels-map.csv not found. Building DataFrame from directory structure...\n"
     ]
    }
   ],
   "source": [
    "try:\n",
    "    labels_df = pd.read_csv(os.path.join(data_dir, 'amhcd-data-64/labels-map.csv'))\n",
    "    assert 'image_path' in labels_df.columns and 'label' in labels_df.columns, \"CSV must contain 'image_path' and 'label' columns\"\n",
    "except FileNotFoundError:\n",
    "    print(\"labels-map.csv not found. Building DataFrame from directory structure...\")\n",
    "    # Alternative : construire un DataFrame à partir des dossiers\n",
    "    image_paths = []\n",
    "    labels = []\n",
    "    \n",
    "    for label_dir in os.listdir(data_dir):\n",
    "        label_path = os.path.join(data_dir, label_dir)\n",
    "        \n",
    "        if os.path.isdir(label_path):\n",
    "            for img_name in os.listdir(label_path):\n",
    "                # Ajouter uniquement les fichiers (pas les dossiers)\n",
    "                img_path = os.path.join(label_path, img_name)\n",
    "                if os.path.isfile(img_path):\n",
    "                    image_paths.append(img_path)\n",
    "                    labels.append(label_dir)\n",
    "    \n",
    "    # Créer le DataFrame après la collecte\n",
    "    labels_df = pd.DataFrame({'image_path': image_paths, 'label': labels})\n"
   ]
  },
  {
   "cell_type": "markdown",
   "id": "9f131d7e",
   "metadata": {},
   "source": [
    "- Encodage des étiquettes"
   ]
  },
  {
   "cell_type": "code",
   "execution_count": 7,
   "id": "97b31bd1",
   "metadata": {},
   "outputs": [],
   "source": [
    "label_encoder = LabelEncoder()\n",
    "labels_df['label_encoded'] = label_encoder.fit_transform(labels_df['label'])\n",
    "num_classes = len(label_encoder.classes_)"
   ]
  },
  {
   "cell_type": "markdown",
   "id": "6d4f6b49",
   "metadata": {},
   "source": [
    "- Chargement des images"
   ]
  },
  {
   "cell_type": "code",
   "execution_count": 8,
   "id": "a307711c",
   "metadata": {},
   "outputs": [],
   "source": [
    "X = np.array([load_and_preprocess_image(os.path.join(data_dir, path)) for path in labels_df['image_path']])\n",
    "y = labels_df['label_encoded'].values"
   ]
  },
  {
   "cell_type": "markdown",
   "id": "3d573e44",
   "metadata": {},
   "source": [
    "- Division des données"
   ]
  },
  {
   "cell_type": "code",
   "execution_count": 9,
   "id": "3db77736",
   "metadata": {},
   "outputs": [],
   "source": [
    "X_temp, X_test, y_temp, y_test = train_test_split(X, y, test_size=0.2, stratify=y, random_state=42)\n",
    "X_train, X_val, y_train, y_val = train_test_split(X_temp, y_temp, test_size=0.25, stratify=y_temp, random_state=42)"
   ]
  },
  {
   "cell_type": "markdown",
   "id": "796ccd0c",
   "metadata": {},
   "source": [
    "- Encodage one-hot"
   ]
  },
  {
   "cell_type": "code",
   "execution_count": 10,
   "id": "0610922c",
   "metadata": {},
   "outputs": [],
   "source": [
    "one_hot_encoder = OneHotEncoder(sparse_output=False)\n",
    "y_train_one_hot = one_hot_encoder.fit_transform(y_train.reshape(-1, 1))\n",
    "y_val_one_hot = one_hot_encoder.transform(y_val.reshape(-1, 1))\n",
    "y_test_one_hot = one_hot_encoder.transform(y_test.reshape(-1, 1))"
   ]
  },
  {
   "cell_type": "markdown",
   "id": "aaf0b6e1",
   "metadata": {},
   "source": [
    "- Entraînement et évaluation"
   ]
  },
  {
   "cell_type": "code",
   "execution_count": 11,
   "id": "ba2db31b",
   "metadata": {},
   "outputs": [],
   "source": [
    "# Configuration du réseau\n",
    "layer_sizes = [X_train.shape[1], 64, 32, num_classes]"
   ]
  },
  {
   "cell_type": "code",
   "execution_count": 12,
   "id": "c808269a",
   "metadata": {},
   "outputs": [],
   "source": [
    "# Création du modèle avec Adam et régularisation\n",
    "nn = MultiClassNeuralNetwork(\n",
    "    layer_sizes, \n",
    "    learning_rate=0.001, \n",
    "    lambda_reg=0.0001, \n",
    "    use_adam=True\n",
    ")"
   ]
  },
  {
   "cell_type": "code",
   "execution_count": 13,
   "id": "4a704f65",
   "metadata": {},
   "outputs": [
    {
     "name": "stdout",
     "output_type": "stream",
     "text": [
      "Epoch 0/100 - Train Loss: 2.0546, Val Loss: 2.0670, Train Acc: 0.4167, Val Acc: 0.4116\n",
      "Epoch 10/100 - Train Loss: 0.8742, Val Loss: 0.9124, Train Acc: 0.7285, Val Acc: 0.7190\n",
      "Epoch 20/100 - Train Loss: 0.6672, Val Loss: 0.7051, Train Acc: 0.7897, Val Acc: 0.7754\n",
      "Epoch 30/100 - Train Loss: 0.5953, Val Loss: 0.6297, Train Acc: 0.8130, Val Acc: 0.7988\n",
      "Epoch 40/100 - Train Loss: 0.5294, Val Loss: 0.5850, Train Acc: 0.8307, Val Acc: 0.8066\n",
      "Epoch 50/100 - Train Loss: 0.4719, Val Loss: 0.5152, Train Acc: 0.8479, Val Acc: 0.8343\n",
      "Epoch 60/100 - Train Loss: 0.4529, Val Loss: 0.5021, Train Acc: 0.8518, Val Acc: 0.8418\n",
      "Epoch 70/100 - Train Loss: 0.4140, Val Loss: 0.4695, Train Acc: 0.8638, Val Acc: 0.8465\n",
      "Epoch 80/100 - Train Loss: 0.3923, Val Loss: 0.4331, Train Acc: 0.8684, Val Acc: 0.8579\n",
      "Epoch 90/100 - Train Loss: 0.3766, Val Loss: 0.4077, Train Acc: 0.8728, Val Acc: 0.8671\n"
     ]
    }
   ],
   "source": [
    "# Validation croisée (optionnelle)\n",
    "# fold_accuracies = nn.cross_validate(X_temp, y_temp_one_hot, k=5, epochs=50)\n",
    "\n",
    "# Entraînement avec augmentation de données\n",
    "train_losses, val_losses, train_accs, val_accs = nn.train(\n",
    "    X_train, y_train_one_hot, \n",
    "    X_val, y_val_one_hot,\n",
    "    epochs=100, \n",
    "    batch_size=64,\n",
    "    use_augmentation=True\n",
    ")"
   ]
  },
  {
   "cell_type": "markdown",
   "id": "3f115422",
   "metadata": {},
   "source": [
    "- Évaluation finale sur le test set"
   ]
  },
  {
   "cell_type": "code",
   "execution_count": 14,
   "id": "1c027a2e",
   "metadata": {},
   "outputs": [
    {
     "name": "stdout",
     "output_type": "stream",
     "text": [
      "\n",
      "=== Rapport de classification ===\n",
      "              precision    recall  f1-score   support\n",
      "\n",
      "          ya       0.75      0.98      0.85       171\n",
      "         yab       0.77      0.77      0.77       171\n",
      "        yach       0.89      0.80      0.84       171\n",
      "         yad       0.85      0.92      0.88       171\n",
      "        yadd       0.73      0.87      0.79       171\n",
      "         yae       0.92      0.91      0.91       171\n",
      "         yaf       0.87      0.89      0.88       171\n",
      "         yag       0.89      0.90      0.89       171\n",
      "        yagg       0.95      0.91      0.93       170\n",
      "        yagh       0.96      0.90      0.93       170\n",
      "         yah       0.89      0.85      0.87       171\n",
      "        yahh       0.85      0.99      0.92       171\n",
      "         yaj       0.90      0.78      0.84       171\n",
      "         yak       0.91      0.81      0.86       171\n",
      "        yakk       0.94      0.93      0.93       171\n",
      "         yal       0.94      0.89      0.92       170\n",
      "         yam       0.91      0.97      0.94       171\n",
      "         yan       0.84      0.95      0.89       170\n",
      "         yaq       0.89      0.88      0.89       171\n",
      "         yar       0.87      0.82      0.85       171\n",
      "        yarr       0.82      0.84      0.83       171\n",
      "         yas       0.74      0.67      0.70       171\n",
      "        yass       0.86      0.88      0.87       171\n",
      "         yat       0.99      0.86      0.92       171\n",
      "        yatt       0.91      0.61      0.73       171\n",
      "         yaw       0.87      0.94      0.90       171\n",
      "         yax       0.87      0.93      0.90       170\n",
      "         yay       0.96      0.92      0.94       171\n",
      "         yaz       0.77      0.80      0.78       171\n",
      "        yazz       0.79      0.77      0.78       171\n",
      "         yey       0.88      0.78      0.83       171\n",
      "          yi       0.83      0.85      0.84       170\n",
      "          yu       0.76      0.88      0.81       171\n",
      "\n",
      "    accuracy                           0.86      5637\n",
      "   macro avg       0.87      0.86      0.86      5637\n",
      "weighted avg       0.87      0.86      0.86      5637\n",
      "\n",
      "Test Accuracy: 0.8615\n"
     ]
    }
   ],
   "source": [
    "y_pred = nn.predict(X_test)\n",
    "test_accuracy = nn.compute_accuracy(y_test_one_hot, nn.forward(X_test))\n",
    "print(\"\\n=== Rapport de classification ===\")\n",
    "print(classification_report(\n",
    "    y_test, \n",
    "    y_pred, \n",
    "    target_names=label_encoder.classes_\n",
    "))\n",
    "print(f\"Test Accuracy: {test_accuracy:.4f}\")\n"
   ]
  },
  {
   "cell_type": "markdown",
   "id": "993d0e2d",
   "metadata": {},
   "source": [
    "- Visualisations"
   ]
  },
  {
   "cell_type": "code",
   "execution_count": 15,
   "id": "a4b0d1a8",
   "metadata": {},
   "outputs": [],
   "source": [
    "# Matrice de confusion\n",
    "cm = confusion_matrix(y_test, y_pred)\n",
    "plt.figure(figsize=(12, 10))\n",
    "sns.heatmap(cm, annot=True, fmt='d', cmap='Blues', \n",
    "            xticklabels=label_encoder.classes_, \n",
    "            yticklabels=label_encoder.classes_)\n",
    "plt.title('Matrice de confusion')\n",
    "plt.xlabel('Prédit')\n",
    "plt.ylabel('Réel')\n",
    "plt.xticks(rotation=90)\n",
    "plt.yticks(rotation=0)\n",
    "plt.tight_layout()\n",
    "plt.savefig('confusion_matrix.png')\n",
    "plt.close()"
   ]
  },
  {
   "cell_type": "code",
   "execution_count": 16,
   "id": "056993b0",
   "metadata": {},
   "outputs": [
    {
     "data": {
      "text/plain": [
       "<matplotlib.legend.Legend at 0x1e74edd0430>"
      ]
     },
     "execution_count": 16,
     "metadata": {},
     "output_type": "execute_result"
    },
    {
     "data": {
      "image/png": "[encoded data removed]",
      "text/plain": [
       "<Figure size 1200x500 with 1 Axes>"
      ]
     },
     "metadata": {},
     "output_type": "display_data"
    }
   ],
   "source": [
    "# Courbes d'apprentissage\n",
    "plt.figure(figsize=(12, 5))\n",
    "\n",
    "plt.subplot(1, 2, 1)\n",
    "plt.plot(train_losses, label='Train Loss')\n",
    "plt.plot(val_losses, label='Validation Loss')\n",
    "plt.title('Courbe de perte')\n",
    "plt.xlabel('Epoch')\n",
    "plt.ylabel('Perte')\n",
    "plt.legend()\n"
   ]
  },
  {
   "cell_type": "code",
   "execution_count": 17,
   "id": "f54ce44e",
   "metadata": {},
   "outputs": [
    {
     "data": {
      "image/png": "[encoded data removed]",
      "text/plain": [
       "<Figure size 640x480 with 1 Axes>"
      ]
     },
     "metadata": {},
     "output_type": "display_data"
    }
   ],
   "source": [
    "plt.subplot(1, 2, 2)\n",
    "plt.plot(train_accs, label='Train Accuracy')\n",
    "plt.plot(val_accs, label='Validation Accuracy')\n",
    "plt.title('Courbe de précision')\n",
    "plt.xlabel('Epoch')\n",
    "plt.ylabel('Précision')\n",
    "plt.legend()\n",
    "\n",
    "plt.tight_layout()\n",
    "plt.savefig('learning_curves.png')\n",
    "plt.show()"
   ]
  },
  {
   "cell_type": "code",
   "execution_count": 18,
   "id": "0744bf15",
   "metadata": {},
   "outputs": [
    {
     "data": {
      "image/png": "[encoded data removed]",
      "text/plain": [
       "<Figure size 640x480 with 1 Axes>"
      ]
     },
     "metadata": {},
     "output_type": "display_data"
    }
   ],
   "source": [
    "# Exemple de prédiction\n",
    "sample_idx = np.random.randint(0, len(X_test))\n",
    "sample_img = X_test[sample_idx].reshape(32, 32)\n",
    "true_label = label_encoder.classes_[y_test[sample_idx]]\n",
    "pred_label = label_encoder.classes_[y_pred[sample_idx]]\n",
    "\n",
    "plt.imshow(sample_img, cmap='gray')\n",
    "plt.title(f\"Réel: {true_label} | Prédit: {pred_label}\")\n",
    "plt.axis('off')\n",
    "plt.savefig('sample_prediction.png')\n",
    "plt.show()"
   ]
  }
 ],
 "metadata": {
  "kernelspec": {
   "display_name": "Python 3",
   "language": "python",
   "name": "python3"
  },
  "language_info": {
   "codemirror_mode": {
    "name": "ipython",
    "version": 3
   },
   "file_extension": ".py",
   "mimetype": "text/x-python",
   "name": "python",
   "nbconvert_exporter": "python",
   "pygments_lexer": "ipython3",
   "version": "3.8.10"
  }
 },
 "nbformat": 4,
 "nbformat_minor": 5
}
